{
 "cells": [
  {
   "cell_type": "code",
   "execution_count": 41,
   "id": "f2e002d2-d257-4489-b434-eefd4f57525b",
   "metadata": {},
   "outputs": [
    {
     "name": "stdout",
     "output_type": "stream",
     "text": [
      " b:20 is greater \n"
     ]
    }
   ],
   "source": [
    "# input the values of a and b as 10 and 20 respectively. now check if a is greater or b is greater using if condition.\n",
    "a=10\n",
    "b=20\n",
    "if a>b:\n",
    "    print(f\" a:{a} is greater \")\n",
    "else:\n",
    "    print(f\" b:{b} is greater \")"
   ]
  },
  {
   "cell_type": "code",
   "execution_count": 39,
   "id": "83add984-413f-4c20-aa29-729c3924d89a",
   "metadata": {},
   "outputs": [
    {
     "name": "stdin",
     "output_type": "stream",
     "text": [
      "Enter integer value x 30\n",
      "Enter integer value y 50\n",
      "Enter integer value z 25\n"
     ]
    },
    {
     "name": "stdout",
     "output_type": "stream",
     "text": [
      "y:50 is greatest number\n"
     ]
    }
   ],
   "source": [
    "# take three user inputs and print the greatest number from those inputs using if-else condition.\n",
    "x=int(input(\"Enter integer value x\"))\n",
    "y=int(input(\"Enter integer value y\"))\n",
    "z=int(input(\"Enter integer value z\"))\n",
    "if x>y and x>z:\n",
    "    print(f\"X:{x} is greatest number\")\n",
    "elif x<y and y>z:\n",
    "    print(f\"y:{y} is greatest number\")\n",
    "else:\n",
    "    print(f\"Z:{z} is greatest number\")"
   ]
  }
 ],
 "metadata": {
  "kernelspec": {
   "display_name": "Python [conda env:base] *",
   "language": "python",
   "name": "conda-base-py"
  },
  "language_info": {
   "codemirror_mode": {
    "name": "ipython",
    "version": 3
   },
   "file_extension": ".py",
   "mimetype": "text/x-python",
   "name": "python",
   "nbconvert_exporter": "python",
   "pygments_lexer": "ipython3",
   "version": "3.12.7"
  }
 },
 "nbformat": 4,
 "nbformat_minor": 5
}
